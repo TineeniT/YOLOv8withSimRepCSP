{
  "cells": [
    {
      "cell_type": "markdown",
      "metadata": {
        "id": "t6MPjfT5NrKQ"
      },
      "source": [
        "<div align=\"center\">\n",
        "\n",
        "  <a href=\"https://ultralytics.com/yolov8\" target=\"_blank\">\n",
        "    <img width=\"1024\", src=\"https://raw.githubusercontent.com/ultralytics/assets/main/yolov8/banner-yolov8.png\"></a>\n",
        "\n",
        "\n",
        "<br>\n",
        "  <a href=\"https://console.paperspace.com/github/ultralytics/ultralytics\"><img src=\"https://assets.paperspace.io/img/gradient-badge.svg\" alt=\"Run on Gradient\"/></a>\n",
        "  <a href=\"https://colab.research.google.com/github/ultralytics/ultralytics/blob/main/examples/tutorial.ipynb\"><img src=\"https://colab.research.google.com/assets/colab-badge.svg\" alt=\"Open In Colab\"></a>\n",
        "  <a href=\"https://www.kaggle.com/ultralytics/yolov8\"><img src=\"https://kaggle.com/static/images/open-in-kaggle.svg\" alt=\"Open In Kaggle\"></a>\n",
        "<br>\n",
        "\n",
        "Welcome to the Ultralytics YOLOv8 🚀 notebook! <a href=\"https://github.com/ultralytics/ultralytics\">YOLOv8</a> is the latest version of the YOLO (You Only Look Once) object detection and image segmentation model developed by <a href=\"https://ultralytics.com\">Ultralytics</a>. This notebook serves as the starting point for exploring the various resources available to help you get started with YOLOv8 and understand its features and capabilities.\n",
        "\n",
        "The YOLOv8 models are designed to be fast, accurate, and easy to use, making them an excellent choice for a wide range of object detection and image segmentation tasks. They can be trained on large datasets and are capable of running on a variety of hardware platforms, from CPUs to GPUs.\n",
        "\n",
        "Whether you are a seasoned machine learning practitioner or new to the field, we hope that the resources in this notebook will help you get the most out of YOLOv8. Please feel free to browse the <a href=\"https://docs.ultralytics.com/\">YOLOv8 Docs</a> and reach out to us with any questions or feedback.\n",
        "\n",
        "</div>"
      ]
    },
    {
      "cell_type": "code",
      "execution_count": null,
      "metadata": {
        "colab": {
          "base_uri": "https://localhost:8080/"
        },
        "id": "Z12wlZbAYzYu",
        "outputId": "44c281aa-cfed-4ad0-d631-351ef9376e9c"
      },
      "outputs": [
        {
          "output_type": "stream",
          "name": "stdout",
          "text": [
            "Mounted at /content/gdrive\n"
          ]
        }
      ],
      "source": [
        "from google.colab import drive\n",
        "drive.mount('/content/gdrive')"
      ]
    },
    {
      "cell_type": "markdown",
      "metadata": {
        "id": "7mGmQbAO5pQb"
      },
      "source": [
        "# Setup\n",
        "\n",
        "Pip install `ultralytics` and [dependencies](https://github.com/ultralytics/ultralytics/blob/main/requirements.txt) and check PyTorch and GPU."
      ]
    },
    {
      "cell_type": "code",
      "execution_count": null,
      "metadata": {
        "colab": {
          "base_uri": "https://localhost:8080/"
        },
        "id": "wbvMlHd_QwMG",
        "outputId": "f6dae0c2-8de7-4b97-bbcb-0268d4b17777"
      },
      "outputs": [
        {
          "output_type": "stream",
          "name": "stderr",
          "text": [
            "Ultralytics YOLOv8.0.188 🚀 Python-3.10.12 torch-2.0.1+cu118 CUDA:0 (Tesla T4, 15102MiB)\n",
            "Setup complete ✅ (2 CPUs, 12.7 GB RAM, 26.3/166.8 GB disk)\n"
          ]
        }
      ],
      "source": [
        "%cd /content/gdrive/MyDrive\n",
        "# Pip install method (recommended)\n",
        "!git clone https://github.com/TineeniT/YOLOv8withSimRepCSP\n",
        "%cd  YOLOv -qe ultralytics\n",
        "import ultralytics\n",
        "ultralytics.checks()"
      ]
    },
    {
      "cell_type": "code",
      "source": [
        "#%pip install -U ultralytics"
      ],
      "metadata": {
        "id": "aOtREAE1_bN5"
      },
      "execution_count": null,
      "outputs": []
    },
    {
      "cell_type": "code",
      "execution_count": null,
      "metadata": {
        "colab": {
          "base_uri": "https://localhost:8080/"
        },
        "id": "67W1-X7KZOCW",
        "outputId": "ae089a78-52b8-4269-eb88-b0cc94c85012"
      },
      "outputs": [
        {
          "output_type": "stream",
          "name": "stdout",
          "text": [
            "\u001b[2K     \u001b[90m━━━━━━━━━━━━━━━━━━━━━━━━━━━━━━━━━━━━━━━━\u001b[0m \u001b[32m57.4/57.4 kB\u001b[0m \u001b[31m1.5 MB/s\u001b[0m eta \u001b[36m0:00:00\u001b[0m\n",
            "\u001b[2K     \u001b[90m━━━━━━━━━━━━━━━━━━━━━━━━━━━━━━━━━━━━━━━\u001b[0m \u001b[32m155.3/155.3 kB\u001b[0m \u001b[31m8.2 MB/s\u001b[0m eta \u001b[36m0:00:00\u001b[0m\n",
            "\u001b[2K     \u001b[90m━━━━━━━━━━━━━━━━━━━━━━━━━━━━━━━━━━━━━━━━\u001b[0m \u001b[32m58.8/58.8 kB\u001b[0m \u001b[31m7.4 MB/s\u001b[0m eta \u001b[36m0:00:00\u001b[0m\n",
            "\u001b[2K     \u001b[90m━━━━━━━━━━━━━━━━━━━━━━━━━━━━━━━━━━━━━━━━\u001b[0m \u001b[32m67.8/67.8 kB\u001b[0m \u001b[31m8.4 MB/s\u001b[0m eta \u001b[36m0:00:00\u001b[0m\n",
            "\u001b[2K     \u001b[90m━━━━━━━━━━━━━━━━━━━━━━━━━━━━━━━━━━━━━━━━\u001b[0m \u001b[32m48.5/48.5 kB\u001b[0m \u001b[31m6.4 MB/s\u001b[0m eta \u001b[36m0:00:00\u001b[0m\n",
            "\u001b[?25h  Preparing metadata (setup.py) ... \u001b[?25l\u001b[?25hdone\n",
            "\u001b[2K     \u001b[90m━━━━━━━━━━━━━━━━━━━━━━━━━━━━━━━━━━━━━━━━\u001b[0m \u001b[32m54.5/54.5 kB\u001b[0m \u001b[31m6.4 MB/s\u001b[0m eta \u001b[36m0:00:00\u001b[0m\n",
            "\u001b[2K     \u001b[90m━━━━━━━━━━━━━━━━━━━━━━━━━━━━━━━━━━━━━━━━\u001b[0m \u001b[32m3.1/3.1 MB\u001b[0m \u001b[31m79.8 MB/s\u001b[0m eta \u001b[36m0:00:00\u001b[0m\n",
            "\u001b[?25h  Building wheel for wget (setup.py) ... \u001b[?25l\u001b[?25hdone\n",
            "loading Roboflow workspace...\n",
            "loading Roboflow project...\n",
            "Dependency ultralytics==8.0.134 is required but found version=8.0.148, to fix: `pip install ultralytics==8.0.134`\n",
            "Downloading Dataset Version Zip in ver3-1 to yolov8: 99% [516866048 / 517641156] bytes"
          ]
        },
        {
          "output_type": "stream",
          "name": "stderr",
          "text": [
            "Extracting Dataset Version Zip to ver3-1 in yolov8::  70%|██████▉   | 1401/2012 [00:13<00:04, 125.21it/s]"
          ]
        }
      ],
      "source": [
        "!pip install roboflow --quiet\n",
        "#%cd /content/gdrive/MyDrive/datasets\n",
        "from roboflow import Roboflow\n",
        "rf = Roboflow(api_key=\"icdAVKaMaOJksjSGzEb9\")\n",
        "project = rf.workspace(\"prince-of-songkla-university-zdy2n\").project(\"ver3-8irer\")\n",
        "dataset = project.version(1).download(\"yolov8\")"
      ]
    },
    {
      "cell_type": "markdown",
      "metadata": {
        "id": "ZY2VXXXu74w5"
      },
      "source": [
        "# 3. Train\n",
        "\n",
        "<p align=\"\"><a href=\"https://roboflow.com/?ref=ultralytics\"><img width=\"1000\" src=\"https://github.com/ultralytics/assets/raw/main/yolov8/banner-integrations.png\"/></a></p>\n",
        "\n",
        "Train YOLOv8 on [Detection](https://docs.ultralytics.com/tasks/detection/), [Segmentation](https://docs.ultralytics.com/tasks/segmentation/) and [Classification](https://docs.ultralytics.com/tasks/classification/) datasets."
      ]
    },
    {
      "cell_type": "code",
      "execution_count": null,
      "metadata": {
        "colab": {
          "base_uri": "https://localhost:8080/"
        },
        "outputId": "a7d27b24-41ca-4216-95de-8bf353f88b87",
        "id": "W6Eq5RH7IaoP"
      },
      "outputs": [
        {
          "output_type": "stream",
          "name": "stdout",
          "text": [
            "\n",
            "                   from  n    params  module                                       arguments                     \n",
            "  0                  -1  1      7040  ultralytics.nn.modules.Conv                  [3, 64, 6, 2, 2]              \n",
            "  1                  -1  1     73984  ultralytics.nn.modules.Conv                  [64, 128, 3, 2]               \n",
            "  2                  -1  1      8320  ultralytics.nn.modules.Conv                  [128, 64, 1, 1]               \n",
            "  3                  -1  1     41344  ultralytics.nn.modules.RepConv               [64, 64, 3, 1]                \n",
            "  4            [-1, -2]  1         0  ultralytics.nn.modules.Concat                [1]                           \n",
            "  5                  -1  1     16640  ultralytics.nn.modules.Conv                  [128, 128, 1, 1]              \n",
            "  6                  -1  1    295424  ultralytics.nn.modules.Conv                  [128, 256, 3, 2]              \n",
            "  7                  -1  1     33024  ultralytics.nn.modules.Conv                  [256, 128, 1, 1]              \n",
            "  8                  -1  1    164608  ultralytics.nn.modules.RepConv               [128, 128, 3, 1]              \n",
            "  9            [-1, -2]  1         0  ultralytics.nn.modules.Concat                [1]                           \n",
            " 10                  -1  1     66048  ultralytics.nn.modules.Conv                  [256, 256, 1, 1]              \n",
            " 11                  -1  1   1180672  ultralytics.nn.modules.Conv                  [256, 512, 3, 2]              \n",
            " 12                  -1  1    131584  ultralytics.nn.modules.Conv                  [512, 256, 1, 1]              \n",
            " 13                  -1  1    656896  ultralytics.nn.modules.RepConv               [256, 256, 3, 1]              \n",
            " 14            [-1, -2]  1         0  ultralytics.nn.modules.Concat                [1]                           \n",
            " 15                  -1  1    263168  ultralytics.nn.modules.Conv                  [512, 512, 1, 1]              \n",
            " 16                  -1  1   2360320  ultralytics.nn.modules.Conv                  [512, 512, 3, 2]              \n",
            " 17                  -1  1    263168  ultralytics.nn.modules.Conv                  [512, 512, 1, 1]              \n",
            " 18                  -1  1   2624512  ultralytics.nn.modules.RepConv               [512, 512, 3, 1]              \n",
            " 19            [-1, -2]  1         0  ultralytics.nn.modules.Concat                [1]                           \n",
            " 20                  -1  1    525312  ultralytics.nn.modules.Conv                  [1024, 512, 1, 1]             \n",
            " 21                  -1  1    656896  ultralytics.nn.modules.SPPF                  [512, 512, 5]                 \n",
            " 22                  -1  1         0  torch.nn.modules.upsampling.Upsample         [None, 2, 'nearest']          \n",
            " 23            [-1, 15]  1         0  ultralytics.nn.modules.Concat                [1]                           \n",
            " 24                  -1  1    262656  ultralytics.nn.modules.Conv                  [1024, 256, 1, 1]             \n",
            " 25                  -1  1    656896  ultralytics.nn.modules.RepConv               [256, 256, 3, 1]              \n",
            " 26                  -1  1    132096  ultralytics.nn.modules.Conv                  [256, 512, 1, 1]              \n",
            " 27                  -1  1         0  torch.nn.modules.upsampling.Upsample         [None, 2, 'nearest']          \n",
            " 28            [-1, 10]  1         0  ultralytics.nn.modules.Concat                [1]                           \n",
            " 29                  -1  1     98560  ultralytics.nn.modules.Conv                  [768, 128, 1, 1]              \n",
            " 30                  -1  1    164608  ultralytics.nn.modules.RepConv               [128, 128, 3, 1]              \n",
            " 31                  -1  1     33280  ultralytics.nn.modules.Conv                  [128, 256, 1, 1]              \n",
            " 32                  -1  1    590336  ultralytics.nn.modules.Conv                  [256, 256, 3, 2]              \n",
            " 33            [-1, 26]  1         0  ultralytics.nn.modules.Concat                [1]                           \n",
            " 34                  -1  1    197120  ultralytics.nn.modules.Conv                  [768, 256, 1, 1]              \n",
            " 35                  -1  1    656896  ultralytics.nn.modules.RepConv               [256, 256, 3, 1]              \n",
            " 36                  -1  1    132096  ultralytics.nn.modules.Conv                  [256, 512, 1, 1]              \n",
            " 37                  -1  1   2360320  ultralytics.nn.modules.Conv                  [512, 512, 3, 2]              \n",
            " 38            [-1, 21]  1         0  ultralytics.nn.modules.Concat                [1]                           \n",
            " 39                  -1  1    525312  ultralytics.nn.modules.Conv                  [1024, 512, 1, 1]             \n",
            " 40                  -1  1   2624512  ultralytics.nn.modules.RepConv               [512, 512, 3, 1]              \n",
            " 41                  -1  1    263168  ultralytics.nn.modules.Conv                  [512, 512, 1, 1]              \n",
            " 42        [31, 36, 41]  1   5644480  ultralytics.nn.modules.Detect                [80, [256, 512, 512]]         \n",
            "YOLOv8l summary: 215 layers, 23711296 parameters, 23711280 gradients, 71.4 GFLOPs\n",
            "\n",
            "New https://pypi.org/project/ultralytics/8.0.188 available 😃 Update with 'pip install -U ultralytics'\n",
            "Ultralytics YOLOv8.0.92 🚀 Python-3.10.12 torch-2.0.1+cu118 CUDA:0 (Tesla T4, 15102MiB)\n",
            "\u001b[34m\u001b[1myolo/engine/trainer: \u001b[0mtask=detect, mode=train, model=/content/gdrive/MyDrive/ultralytics/ultralytics/models/v8/yolov8l.yaml, data=/content/gdrive/MyDrive/ultralytics/ultralytics/datasets/GlobalWheat2020.yaml, epochs=50, patience=50, batch=16, imgsz=640, save=True, save_period=-1, cache=False, device=None, workers=8, project=None, name=ft9gw05, exist_ok=False, pretrained=False, optimizer=SGD, verbose=True, seed=0, deterministic=True, single_cls=False, rect=False, cos_lr=False, close_mosaic=0, resume=False, amp=True, overlap_mask=True, mask_ratio=4, dropout=0.0, val=True, split=val, save_json=False, save_hybrid=False, conf=0.5, iou=0.7, max_det=300, half=False, dnn=False, plots=True, source=None, show=False, save_txt=False, save_conf=False, save_crop=False, show_labels=True, show_conf=True, vid_stride=1, line_thickness=3, visualize=False, augment=False, agnostic_nms=False, classes=None, retina_masks=False, boxes=True, format=torchscript, keras=False, optimize=False, int8=False, dynamic=False, simplify=False, opset=None, workspace=4, nms=False, lr0=0.05, lrf=0.01, momentum=0.937, weight_decay=0.0005, warmup_epochs=3.0, warmup_momentum=0.8, warmup_bias_lr=0.1, box=0.05, cls=0.3, dfl=1.0, pose=12.0, kobj=1.0, label_smoothing=0.0, nbs=64, hsv_h=0.015, hsv_s=0.7, hsv_v=0.4, degrees=0.0, translate=0.2, scale=0.5, shear=0.0, perspective=0.0, flipud=0.0, fliplr=0.5, mosaic=1.0, mixup=0.0, copy_paste=0.0, cfg=None, v5loader=False, tracker=botsort.yaml, save_dir=/content/gdrive/MyDrive/ultralytics/runs/detect/ft9gw054\n",
            "Overriding model.yaml nc=80 with nc=1\n",
            "\n",
            "                   from  n    params  module                                       arguments                     \n",
            "  0                  -1  1      7040  ultralytics.nn.modules.Conv                  [3, 64, 6, 2, 2]              \n",
            "  1                  -1  1     73984  ultralytics.nn.modules.Conv                  [64, 128, 3, 2]               \n",
            "  2                  -1  1      8320  ultralytics.nn.modules.Conv                  [128, 64, 1, 1]               \n",
            "  3                  -1  1     41344  ultralytics.nn.modules.RepConv               [64, 64, 3, 1]                \n",
            "  4            [-1, -2]  1         0  ultralytics.nn.modules.Concat                [1]                           \n",
            "  5                  -1  1     16640  ultralytics.nn.modules.Conv                  [128, 128, 1, 1]              \n",
            "  6                  -1  1    295424  ultralytics.nn.modules.Conv                  [128, 256, 3, 2]              \n",
            "  7                  -1  1     33024  ultralytics.nn.modules.Conv                  [256, 128, 1, 1]              \n",
            "  8                  -1  1    164608  ultralytics.nn.modules.RepConv               [128, 128, 3, 1]              \n",
            "  9            [-1, -2]  1         0  ultralytics.nn.modules.Concat                [1]                           \n",
            " 10                  -1  1     66048  ultralytics.nn.modules.Conv                  [256, 256, 1, 1]              \n",
            " 11                  -1  1   1180672  ultralytics.nn.modules.Conv                  [256, 512, 3, 2]              \n",
            " 12                  -1  1    131584  ultralytics.nn.modules.Conv                  [512, 256, 1, 1]              \n",
            " 13                  -1  1    656896  ultralytics.nn.modules.RepConv               [256, 256, 3, 1]              \n",
            " 14            [-1, -2]  1         0  ultralytics.nn.modules.Concat                [1]                           \n",
            " 15                  -1  1    263168  ultralytics.nn.modules.Conv                  [512, 512, 1, 1]              \n",
            " 16                  -1  1   2360320  ultralytics.nn.modules.Conv                  [512, 512, 3, 2]              \n",
            " 17                  -1  1    263168  ultralytics.nn.modules.Conv                  [512, 512, 1, 1]              \n",
            " 18                  -1  1   2624512  ultralytics.nn.modules.RepConv               [512, 512, 3, 1]              \n",
            " 19            [-1, -2]  1         0  ultralytics.nn.modules.Concat                [1]                           \n",
            " 20                  -1  1    525312  ultralytics.nn.modules.Conv                  [1024, 512, 1, 1]             \n",
            " 21                  -1  1    656896  ultralytics.nn.modules.SPPF                  [512, 512, 5]                 \n",
            " 22                  -1  1         0  torch.nn.modules.upsampling.Upsample         [None, 2, 'nearest']          \n",
            " 23            [-1, 15]  1         0  ultralytics.nn.modules.Concat                [1]                           \n",
            " 24                  -1  1    262656  ultralytics.nn.modules.Conv                  [1024, 256, 1, 1]             \n",
            " 25                  -1  1    656896  ultralytics.nn.modules.RepConv               [256, 256, 3, 1]              \n",
            " 26                  -1  1    132096  ultralytics.nn.modules.Conv                  [256, 512, 1, 1]              \n",
            " 27                  -1  1         0  torch.nn.modules.upsampling.Upsample         [None, 2, 'nearest']          \n",
            " 28            [-1, 10]  1         0  ultralytics.nn.modules.Concat                [1]                           \n",
            " 29                  -1  1     98560  ultralytics.nn.modules.Conv                  [768, 128, 1, 1]              \n",
            " 30                  -1  1    164608  ultralytics.nn.modules.RepConv               [128, 128, 3, 1]              \n",
            " 31                  -1  1     33280  ultralytics.nn.modules.Conv                  [128, 256, 1, 1]              \n",
            " 32                  -1  1    590336  ultralytics.nn.modules.Conv                  [256, 256, 3, 2]              \n",
            " 33            [-1, 26]  1         0  ultralytics.nn.modules.Concat                [1]                           \n",
            " 34                  -1  1    197120  ultralytics.nn.modules.Conv                  [768, 256, 1, 1]              \n",
            " 35                  -1  1    656896  ultralytics.nn.modules.RepConv               [256, 256, 3, 1]              \n",
            " 36                  -1  1    132096  ultralytics.nn.modules.Conv                  [256, 512, 1, 1]              \n",
            " 37                  -1  1   2360320  ultralytics.nn.modules.Conv                  [512, 512, 3, 2]              \n",
            " 38            [-1, 21]  1         0  ultralytics.nn.modules.Concat                [1]                           \n",
            " 39                  -1  1    525312  ultralytics.nn.modules.Conv                  [1024, 512, 1, 1]             \n",
            " 40                  -1  1   2624512  ultralytics.nn.modules.RepConv               [512, 512, 3, 1]              \n",
            " 41                  -1  1    263168  ultralytics.nn.modules.Conv                  [512, 512, 1, 1]              \n",
            " 42        [31, 36, 41]  1   5583571  ultralytics.nn.modules.Detect                [1, [256, 512, 512]]          \n",
            "YOLOv8l summary: 215 layers, 23650387 parameters, 23650371 gradients, 71.1 GFLOPs\n",
            "\n",
            "\u001b[34m\u001b[1mTensorBoard: \u001b[0mStart with 'tensorboard --logdir /content/gdrive/MyDrive/ultralytics/runs/detect/ft9gw054', view at http://localhost:6006/\n",
            "\u001b[34m\u001b[1mAMP: \u001b[0mrunning Automatic Mixed Precision (AMP) checks with YOLOv8n...\n",
            "\u001b[34m\u001b[1mAMP: \u001b[0mchecks passed ✅\n",
            "\u001b[34m\u001b[1moptimizer:\u001b[0m SGD(lr=0.05) with parameter groups 61 weight(decay=0.0), 60 weight(decay=0.0005), 67 bias\n",
            "\u001b[34m\u001b[1mtrain: \u001b[0mScanning /content/gdrive/MyDrive/datasets/GlobalWheat2020/labels/arvalis_1.cache... 2564 images, 46 backgrounds, 0 corrupt: 100% 2610/2610 [00:00<?, ?it/s]\n",
            "\u001b[34m\u001b[1malbumentations: \u001b[0mBlur(p=0.01, blur_limit=(3, 7)), MedianBlur(p=0.01, blur_limit=(3, 7)), ToGray(p=0.01), CLAHE(p=0.01, clip_limit=(1, 4.0), tile_grid_size=(8, 8))\n",
            "\u001b[34m\u001b[1mval: \u001b[0mScanning /content/gdrive/MyDrive/datasets/GlobalWheat2020/labels/arvalis_2.cache... 380 images, 0 backgrounds, 0 corrupt: 100% 380/380 [00:00<?, ?it/s]\n",
            "Plotting labels to /content/gdrive/MyDrive/ultralytics/runs/detect/ft9gw054/labels.jpg... \n",
            "Image sizes 640 train, 640 val\n",
            "Using 2 dataloader workers\n",
            "Logging results to \u001b[1m/content/gdrive/MyDrive/ultralytics/runs/detect/ft9gw054\u001b[0m\n",
            "Starting training for 50 epochs...\n",
            "\n",
            "      Epoch    GPU_mem   box_loss   cls_loss   dfl_loss  Instances       Size\n",
            "       1/50      7.31G    0.02402       1.23      1.819        152        640: 100% 164/164 [06:16<00:00,  2.30s/it]\n",
            "                 Class     Images  Instances      Box(P          R      mAP50  mAP50-95): 100% 12/12 [00:20<00:00,  1.75s/it]\n",
            "                   all        380       7904      0.531      0.117      0.314      0.115\n",
            "\n",
            "      Epoch    GPU_mem   box_loss   cls_loss   dfl_loss  Instances       Size\n",
            "       2/50      8.05G    0.01638     0.9079       1.27        230        640: 100% 164/164 [05:55<00:00,  2.17s/it]\n",
            "                 Class     Images  Instances      Box(P          R      mAP50  mAP50-95): 100% 12/12 [00:18<00:00,  1.58s/it]\n",
            "                   all        380       7904       0.26     0.0374      0.141     0.0404\n",
            "\n",
            "      Epoch    GPU_mem   box_loss   cls_loss   dfl_loss  Instances       Size\n",
            "       3/50      7.53G    0.01495     0.8532       1.15         53        640: 100% 164/164 [05:56<00:00,  2.18s/it]\n",
            "                 Class     Images  Instances      Box(P          R      mAP50  mAP50-95): 100% 12/12 [00:20<00:00,  1.69s/it]\n",
            "                   all        380       7904      0.867    0.00329      0.435      0.241\n",
            "\n",
            "      Epoch    GPU_mem   box_loss   cls_loss   dfl_loss  Instances       Size\n",
            "       4/50      7.27G    0.01392     0.7617      1.087        156        640: 100% 164/164 [05:52<00:00,  2.15s/it]\n",
            "                 Class     Images  Instances      Box(P          R      mAP50  mAP50-95): 100% 12/12 [00:18<00:00,  1.58s/it]\n",
            "                   all        380       7904      0.866      0.063      0.463      0.204\n",
            "\n",
            "      Epoch    GPU_mem   box_loss   cls_loss   dfl_loss  Instances       Size\n",
            "       5/50       7.2G    0.01324     0.6813      1.042        211        640: 100% 164/164 [05:53<00:00,  2.15s/it]\n",
            "                 Class     Images  Instances      Box(P          R      mAP50  mAP50-95): 100% 12/12 [00:21<00:00,  1.83s/it]\n",
            "                   all        380       7904      0.934      0.103      0.518      0.282\n",
            "\n",
            "      Epoch    GPU_mem   box_loss   cls_loss   dfl_loss  Instances       Size\n",
            "       6/50      8.46G    0.01282     0.6257      1.005        141        640: 100% 164/164 [05:55<00:00,  2.16s/it]\n",
            "                 Class     Images  Instances      Box(P          R      mAP50  mAP50-95): 100% 12/12 [00:20<00:00,  1.73s/it]\n",
            "                   all        380       7904      0.757      0.352      0.556      0.268\n",
            "\n",
            "      Epoch    GPU_mem   box_loss   cls_loss   dfl_loss  Instances       Size\n",
            "       7/50      7.57G    0.01248     0.5881     0.9876         93        640: 100% 164/164 [05:52<00:00,  2.15s/it]\n",
            "                 Class     Images  Instances      Box(P          R      mAP50  mAP50-95): 100% 12/12 [00:20<00:00,  1.71s/it]\n",
            "                   all        380       7904      0.888      0.284      0.588      0.304\n",
            "\n",
            "      Epoch    GPU_mem   box_loss   cls_loss   dfl_loss  Instances       Size\n",
            "       8/50       8.6G    0.01218     0.5619     0.9758         57        640: 100% 164/164 [05:56<00:00,  2.17s/it]\n",
            "                 Class     Images  Instances      Box(P          R      mAP50  mAP50-95): 100% 12/12 [00:22<00:00,  1.83s/it]\n",
            "                   all        380       7904      0.919      0.422      0.674      0.347\n",
            "\n",
            "      Epoch    GPU_mem   box_loss   cls_loss   dfl_loss  Instances       Size\n",
            "       9/50      7.35G    0.01198     0.5466     0.9631         68        640: 100% 164/164 [05:59<00:00,  2.19s/it]\n",
            "                 Class     Images  Instances      Box(P          R      mAP50  mAP50-95): 100% 12/12 [00:23<00:00,  1.94s/it]\n",
            "                   all        380       7904       0.91      0.438      0.678      0.346\n",
            "\n",
            "      Epoch    GPU_mem   box_loss   cls_loss   dfl_loss  Instances       Size\n",
            "      10/50      8.45G    0.01184     0.5286     0.9558         81        640: 100% 164/164 [06:01<00:00,  2.20s/it]\n",
            "                 Class     Images  Instances      Box(P          R      mAP50  mAP50-95): 100% 12/12 [00:21<00:00,  1.83s/it]\n",
            "                   all        380       7904      0.955      0.438        0.7      0.378\n",
            "\n",
            "      Epoch    GPU_mem   box_loss   cls_loss   dfl_loss  Instances       Size\n",
            "      11/50      8.01G    0.01168     0.5179     0.9429         88        640: 100% 164/164 [05:55<00:00,  2.17s/it]\n",
            "                 Class     Images  Instances      Box(P          R      mAP50  mAP50-95): 100% 12/12 [00:19<00:00,  1.66s/it]\n",
            "                   all        380       7904      0.929      0.537      0.739      0.347\n",
            "\n",
            "      Epoch    GPU_mem   box_loss   cls_loss   dfl_loss  Instances       Size\n",
            "      12/50      7.82G    0.01157     0.5097      0.939         44        640: 100% 164/164 [05:54<00:00,  2.16s/it]\n",
            "                 Class     Images  Instances      Box(P          R      mAP50  mAP50-95): 100% 12/12 [00:20<00:00,  1.67s/it]\n",
            "                   all        380       7904      0.939      0.382      0.664      0.345\n",
            "\n",
            "      Epoch    GPU_mem   box_loss   cls_loss   dfl_loss  Instances       Size\n",
            "      13/50      6.65G    0.01145     0.5009     0.9341        133        640: 100% 164/164 [05:55<00:00,  2.17s/it]\n",
            "                 Class     Images  Instances      Box(P          R      mAP50  mAP50-95): 100% 12/12 [00:20<00:00,  1.70s/it]\n",
            "                   all        380       7904      0.922      0.529      0.734      0.398\n",
            "\n",
            "      Epoch    GPU_mem   box_loss   cls_loss   dfl_loss  Instances       Size\n",
            "      14/50       7.7G    0.01133     0.4931      0.925        134        640: 100% 164/164 [05:54<00:00,  2.16s/it]\n",
            "                 Class     Images  Instances      Box(P          R      mAP50  mAP50-95): 100% 12/12 [00:19<00:00,  1.66s/it]\n",
            "                   all        380       7904      0.918      0.582       0.76      0.383\n",
            "\n",
            "      Epoch    GPU_mem   box_loss   cls_loss   dfl_loss  Instances       Size\n",
            "      15/50      7.63G    0.01125     0.4839     0.9233        114        640: 100% 164/164 [05:54<00:00,  2.16s/it]\n",
            "                 Class     Images  Instances      Box(P          R      mAP50  mAP50-95): 100% 12/12 [00:21<00:00,  1.82s/it]\n",
            "                   all        380       7904      0.951      0.539      0.751      0.408\n",
            "\n",
            "      Epoch    GPU_mem   box_loss   cls_loss   dfl_loss  Instances       Size\n",
            "      16/50      8.28G    0.01123     0.4789     0.9151         71        640: 100% 164/164 [05:50<00:00,  2.14s/it]\n",
            "                 Class     Images  Instances      Box(P          R      mAP50  mAP50-95): 100% 12/12 [00:19<00:00,  1.65s/it]\n",
            "                   all        380       7904      0.953      0.503      0.732       0.39\n",
            "\n",
            "      Epoch    GPU_mem   box_loss   cls_loss   dfl_loss  Instances       Size\n",
            "      17/50      6.75G     0.0112     0.4774     0.9233         62        640: 100% 164/164 [05:48<00:00,  2.12s/it]\n",
            "                 Class     Images  Instances      Box(P          R      mAP50  mAP50-95): 100% 12/12 [00:21<00:00,  1.79s/it]\n",
            "                   all        380       7904      0.919       0.54      0.739      0.389\n",
            "\n",
            "      Epoch    GPU_mem   box_loss   cls_loss   dfl_loss  Instances       Size\n",
            "      18/50      7.24G    0.01105     0.4701     0.9093         80        640: 100% 164/164 [05:54<00:00,  2.16s/it]\n",
            "                 Class     Images  Instances      Box(P          R      mAP50  mAP50-95): 100% 12/12 [00:21<00:00,  1.76s/it]\n",
            "                   all        380       7904      0.956      0.519      0.741      0.383\n",
            "\n",
            "      Epoch    GPU_mem   box_loss   cls_loss   dfl_loss  Instances       Size\n",
            "      19/50       7.5G    0.01103     0.4675     0.9092         52        640: 100% 164/164 [05:52<00:00,  2.15s/it]\n",
            "                 Class     Images  Instances      Box(P          R      mAP50  mAP50-95): 100% 12/12 [00:21<00:00,  1.82s/it]\n",
            "                   all        380       7904      0.937      0.589       0.77      0.401\n",
            "\n",
            "      Epoch    GPU_mem   box_loss   cls_loss   dfl_loss  Instances       Size\n",
            "      20/50      7.82G    0.01092     0.4602      0.902        146        640: 100% 164/164 [05:48<00:00,  2.13s/it]\n",
            "                 Class     Images  Instances      Box(P          R      mAP50  mAP50-95): 100% 12/12 [00:20<00:00,  1.73s/it]\n",
            "                   all        380       7904       0.95      0.534      0.748      0.434\n",
            "\n",
            "      Epoch    GPU_mem   box_loss   cls_loss   dfl_loss  Instances       Size\n",
            "      21/50      6.54G    0.01092     0.4579     0.9041         83        640: 100% 164/164 [05:47<00:00,  2.12s/it]\n",
            "                 Class     Images  Instances      Box(P          R      mAP50  mAP50-95): 100% 12/12 [00:20<00:00,  1.73s/it]\n",
            "                   all        380       7904      0.931      0.623      0.785      0.423\n",
            "\n",
            "      Epoch    GPU_mem   box_loss   cls_loss   dfl_loss  Instances       Size\n",
            "      22/50       8.4G    0.01083     0.4494     0.8989        113        640: 100% 164/164 [05:47<00:00,  2.12s/it]\n",
            "                 Class     Images  Instances      Box(P          R      mAP50  mAP50-95): 100% 12/12 [00:19<00:00,  1.62s/it]\n",
            "                   all        380       7904      0.956       0.52      0.743      0.419\n",
            "\n",
            "      Epoch    GPU_mem   box_loss   cls_loss   dfl_loss  Instances       Size\n",
            "      23/50      7.43G    0.01087     0.4513     0.8988        298        640: 100% 164/164 [05:50<00:00,  2.14s/it]\n",
            "                 Class     Images  Instances      Box(P          R      mAP50  mAP50-95): 100% 12/12 [00:22<00:00,  1.84s/it]\n",
            "                   all        380       7904      0.956      0.502      0.734      0.403\n",
            "\n",
            "      Epoch    GPU_mem   box_loss   cls_loss   dfl_loss  Instances       Size\n",
            "      24/50      7.03G    0.01075     0.4484     0.8895        108        640: 100% 164/164 [05:58<00:00,  2.19s/it]\n",
            "                 Class     Images  Instances      Box(P          R      mAP50  mAP50-95): 100% 12/12 [00:20<00:00,  1.70s/it]\n",
            "                   all        380       7904      0.943       0.53      0.743      0.431\n",
            "\n",
            "      Epoch    GPU_mem   box_loss   cls_loss   dfl_loss  Instances       Size\n",
            "      25/50      7.16G    0.01071     0.4433     0.8966        102        640: 100% 164/164 [05:54<00:00,  2.16s/it]\n",
            "                 Class     Images  Instances      Box(P          R      mAP50  mAP50-95): 100% 12/12 [00:21<00:00,  1.78s/it]\n",
            "                   all        380       7904      0.952      0.574      0.769      0.421\n",
            "\n",
            "      Epoch    GPU_mem   box_loss   cls_loss   dfl_loss  Instances       Size\n",
            "      26/50      7.16G    0.01066      0.439     0.8859        198        640: 100% 164/164 [05:50<00:00,  2.14s/it]\n",
            "                 Class     Images  Instances      Box(P          R      mAP50  mAP50-95): 100% 12/12 [00:20<00:00,  1.72s/it]\n",
            "                   all        380       7904      0.954      0.576      0.772      0.424\n",
            "\n",
            "      Epoch    GPU_mem   box_loss   cls_loss   dfl_loss  Instances       Size\n",
            "      27/50      6.87G    0.01067     0.4394     0.8898        799        640:  38% 62/164 [02:11<03:14,  1.91s/it]libpng error: Read Error\n",
            "libpng error: Read Error\n",
            "      27/50      6.87G    0.01067     0.4394     0.8898        799        640:  38% 62/164 [02:12<03:37,  2.13s/it]\n",
            "Traceback (most recent call last):\n",
            "  File \"/usr/local/bin/yolo\", line 33, in <module>\n",
            "    sys.exit(load_entry_point('ultralytics', 'console_scripts', 'yolo')())\n",
            "  File \"/content/gdrive/MyDrive/ultralytics/ultralytics/yolo/cfg/__init__.py\", line 391, in entrypoint\n",
            "[ WARN:0@10012.538] global loadsave.cpp:248 findDecoder imread_('/content/gdrive/MyDrive/datasets/GlobalWheat2020/images/arvalis_1/cc8281f1-5033-47c9-a987-2b675408544b.png'): can't open/read file: check file path/integrity\n",
            "[ WARN:0@10012.538] global loadsave.cpp:248 findDecoder imread_('/content/gdrive/MyDrive/datasets/GlobalWheat2020/images/arvalis_3/6fafd30d-25e0-4c60-9c59-731482532e41.png'): can't open/read file: check file path/integrity\n",
            "[ WARN:0@10012.539] global loadsave.cpp:248 findDecoder imread_('/content/gdrive/MyDrive/datasets/GlobalWheat2020/images/arvalis_3/66caad84-8f5d-4a6e-ab3f-4c2518bb6cb9.png'): can't open/read file: check file path/integrity\n",
            "  File \"/content/gdrive/MyDrive/ultralytics/ultralytics/yolo/engine/model.py\", line 370, in train\n",
            "  File \"/content/gdrive/MyDrive/ultralytics/ultralytics/yolo/engine/trainer.py\", line 191, in train\n",
            "  File \"/content/gdrive/MyDrive/ultralytics/ultralytics/yolo/engine/trainer.py\", line 306, in _do_train\n",
            "  File \"/usr/local/lib/python3.10/dist-packages/tqdm/std.py\", line 1182, in __iter__\n",
            "    for obj in iterable:\n",
            "  File \"/content/gdrive/MyDrive/ultralytics/ultralytics/yolo/data/build.py\", line 38, in __iter__\n",
            "  File \"/usr/local/lib/python3.10/dist-packages/torch/utils/data/dataloader.py\", line 633, in __next__\n",
            "    data = self._next_data()\n",
            "  File \"/usr/local/lib/python3.10/dist-packages/torch/utils/data/dataloader.py\", line 1345, in _next_data\n",
            "    return self._process_data(data)\n",
            "  File \"/usr/local/lib/python3.10/dist-packages/torch/utils/data/dataloader.py\", line 1371, in _process_data\n",
            "    data.reraise()\n",
            "  File \"/usr/local/lib/python3.10/dist-packages/torch/_utils.py\", line 644, in reraise\n",
            "    raise exception\n",
            "FileNotFoundError: Caught FileNotFoundError in DataLoader worker process 0.\n",
            "Original Traceback (most recent call last):\n",
            "  File \"/usr/local/lib/python3.10/dist-packages/torch/utils/data/_utils/worker.py\", line 308, in _worker_loop\n",
            "    data = fetcher.fetch(index)\n",
            "  File \"/usr/local/lib/python3.10/dist-packages/torch/utils/data/_utils/fetch.py\", line 51, in fetch\n",
            "    data = [self.dataset[idx] for idx in possibly_batched_index]\n",
            "  File \"/usr/local/lib/python3.10/dist-packages/torch/utils/data/_utils/fetch.py\", line 51, in <listcomp>\n",
            "    data = [self.dataset[idx] for idx in possibly_batched_index]\n",
            "  File \"/content/gdrive/MyDrive/ultralytics/ultralytics/yolo/data/base.py\", line 220, in __getitem__\n",
            "  File \"/content/gdrive/MyDrive/ultralytics/ultralytics/yolo/data/base.py\", line 226, in get_label_info\n",
            "  File \"/content/gdrive/MyDrive/ultralytics/ultralytics/yolo/data/base.py\", line 143, in load_image\n",
            "FileNotFoundError: Image Not Found /content/gdrive/MyDrive/datasets/GlobalWheat2020/images/arvalis_1/22e7dcfc-c747-45f0-b83b-5ee0bc82d8a7.png\n",
            "\n"
          ]
        }
      ],
      "source": [
        "!yolo task=detect mode=train model=/content/gdrive/MyDrive/ultralytics/ultralytics/models/v8/yolov8l.yaml data='/content/gdrive/MyDrive/ultralytics/ultralytics/datasets/GlobalWheat2020.yaml' epochs=50 imgsz=640  batch=16 lr0=0.05   name=ft9gw05 conf=0.5"
      ]
    },
    {
      "cell_type": "markdown",
      "metadata": {
        "id": "0eq1SMWl6Sfn"
      },
      "source": [
        "# 2. Val\n",
        "Validate a model's accuracy on the [COCO](https://cocodataset.org/#home) dataset's `val` or `test` splits. The latest YOLOv8 [models](https://github.com/ultralytics/ultralytics#models) are downloaded automatically the first time they are used."
      ]
    },
    {
      "cell_type": "code",
      "execution_count": null,
      "metadata": {
        "colab": {
          "base_uri": "https://localhost:8080/"
        },
        "id": "ROkFh5Z7vOQB",
        "outputId": "dd153157-7827-4426-a1bc-9e0703c54ea0"
      },
      "outputs": [
        {
          "output_type": "stream",
          "name": "stdout",
          "text": [
            "Ultralytics YOLOv8.0.92 🚀 Python-3.10.12 torch-2.0.1+cu118 CUDA:0 (Tesla T4, 15102MiB)\n",
            "YOLOv8s summary (fused): 168 layers, 11127906 parameters, 0 gradients, 28.4 GFLOPs\n",
            "\u001b[34m\u001b[1mval: \u001b[0mScanning /content/gdrive/MyDrive/ver3-1/test/labels.cache... 150 images, 0 backgrounds, 0 corrupt: 100% 150/150 [00:00<?, ?it/s]\n",
            "                 Class     Images  Instances      Box(P          R      mAP50  mAP50-95): 100% 10/10 [00:21<00:00,  2.14s/it]\n",
            "                   all        150       1655      0.518      0.397      0.448      0.379\n",
            "               accepts        150         75      0.947       0.96      0.965      0.958\n",
            "           brown point        150        544        0.5     0.0202      0.257      0.119\n",
            "                bruise        150        117      0.255       0.12      0.154     0.0861\n",
            "               rejects        150         75      0.923       0.96       0.97      0.957\n",
            "               stencil        150        491      0.215      0.267      0.187     0.0923\n",
            "           white point        150        353       0.27     0.0567      0.156     0.0615\n",
            "Speed: 0.2ms preprocess, 10.0ms inference, 0.0ms loss, 3.4ms postprocess per image\n",
            "Results saved to \u001b[1m/content/gdrive/MyDrive/ultralytics/runs/detect/testosv30001_12\u001b[0m\n"
          ]
        }
      ],
      "source": [
        "!yolo task=detect mode=val model=/content/gdrive/MyDrive/v8/ultralytics/runs/detect/osv30001_1/weights/best.pt  data=/content/gdrive/MyDrive/ver3-1/data.yaml imgsz=640 batch=16 conf=0.5 iou=0.95 name=testosv30001_1"
      ]
    },
    {
      "cell_type": "markdown",
      "metadata": {
        "id": "4JnkELT0cIJg"
      },
      "source": [
        "# 1. Predict\n",
        "\n",
        "YOLOv8 may be used directly in the Command Line Interface (CLI) with a `yolo` command for a variety of tasks and modes and accepts additional arguments, i.e. `imgsz=640`. See a full list of available `yolo` [arguments](https://docs.ultralytics.com/config/) in the YOLOv8 [Docs](https://docs.ultralytics.com).\n"
      ]
    },
    {
      "cell_type": "code",
      "execution_count": null,
      "metadata": {
        "colab": {
          "base_uri": "https://localhost:8080/"
        },
        "outputId": "8e344e98-8b10-4603-ab0b-3b53b1c1956a",
        "id": "QdpDfH5v8CK7"
      },
      "outputs": [
        {
          "output_type": "stream",
          "name": "stdout",
          "text": [
            "Ultralytics YOLOv8.0.92 🚀 Python-3.10.12 torch-2.0.1+cu118 CUDA:0 (Tesla T4, 15102MiB)\n",
            "YOLOv8s summary: 170 layers, 9677474 parameters, 0 gradients, 24.4 GFLOPs\n",
            "\n",
            "image 1/150 /content/gdrive/MyDrive/ver3-1/test/images/AN_103_jpg.rf.bba289acc3a02374ced9279427985904.jpg: 640x384 1 accepts, 2 stencils, 108.8ms\n",
            "image 2/150 /content/gdrive/MyDrive/ver3-1/test/images/AN_111_jpg.rf.edc379ea3e67c271ac4ff17b749ba670.jpg: 640x384 1 accepts, 2 stencils, 37.1ms\n",
            "image 3/150 /content/gdrive/MyDrive/ver3-1/test/images/AN_112_jpg.rf.c1e4c5ebad82acc731cc698e9aabb817.jpg: 640x384 1 accepts, 2 stencils, 12.0ms\n",
            "image 4/150 /content/gdrive/MyDrive/ver3-1/test/images/AN_114_jpg.rf.1a3781df798d4fc57ef3c4e4f13d44cc.jpg: 640x384 1 accepts, 1 bruise, 6 stencils, 9.9ms\n",
            "image 5/150 /content/gdrive/MyDrive/ver3-1/test/images/AN_115_jpg.rf.2baa7d0c38205a02f7deef95e1df8a6f.jpg: 640x384 1 accepts, 3 stencils, 9.8ms\n",
            "image 6/150 /content/gdrive/MyDrive/ver3-1/test/images/AN_120_jpg.rf.71d654778962c469b6b2a1ec81dd6455.jpg: 640x384 1 accepts, 4 stencils, 9.8ms\n",
            "image 7/150 /content/gdrive/MyDrive/ver3-1/test/images/AN_137_jpg.rf.c9b08a5124de6328143ab4f04e01fc5f.jpg: 640x384 1 accepts, 1 brown point, 3 stencils, 1 white point, 9.8ms\n",
            "image 8/150 /content/gdrive/MyDrive/ver3-1/test/images/AN_140_jpg.rf.a9474b2dca56063caab07a422e601839.jpg: 640x384 1 accepts, 2 stencils, 9.8ms\n",
            "image 9/150 /content/gdrive/MyDrive/ver3-1/test/images/AN_143_jpg.rf.5291c68c6d53257b85ff49ad79d23c3e.jpg: 640x384 1 accepts, 2 brown points, 1 stencil, 9.8ms\n",
            "image 10/150 /content/gdrive/MyDrive/ver3-1/test/images/AN_145_jpg.rf.c093073f07cab368ef4b7a797931c5ec.jpg: 640x384 1 accepts, 2 stencils, 9.8ms\n",
            "image 11/150 /content/gdrive/MyDrive/ver3-1/test/images/AN_148_jpg.rf.4a37b4a51d1b760cf36d95afcdbb2d90.jpg: 640x384 1 accepts, 2 white points, 9.8ms\n",
            "image 12/150 /content/gdrive/MyDrive/ver3-1/test/images/AN_152_jpg.rf.5120cc726c2106fbd9b0c4314034e9ae.jpg: 384x640 1 accepts, 1 white point, 69.6ms\n",
            "image 13/150 /content/gdrive/MyDrive/ver3-1/test/images/AN_158_jpg.rf.08d9710f496675523d0b78ef2c3d0a8c.jpg: 384x640 1 accepts, 1 stencil, 10.0ms\n",
            "image 14/150 /content/gdrive/MyDrive/ver3-1/test/images/AN_165_jpg.rf.c3781977ca5ba43e6d69dd784bf5f851.jpg: 384x640 1 accepts, 10.0ms\n",
            "image 15/150 /content/gdrive/MyDrive/ver3-1/test/images/AN_172_jpg.rf.b62e71ff43c930d0c29ccc063b256788.jpg: 384x640 1 accepts, 10.0ms\n",
            "image 16/150 /content/gdrive/MyDrive/ver3-1/test/images/AN_174_jpg.rf.584b7038102cd833248bbed86b1dc25a.jpg: 640x384 1 accepts, 10.3ms\n",
            "image 17/150 /content/gdrive/MyDrive/ver3-1/test/images/AN_18_jpg.rf.f12f0fafafbcca72fa3bfe6ed2a3688d.jpg: 640x384 1 accepts, 9.8ms\n",
            "image 18/150 /content/gdrive/MyDrive/ver3-1/test/images/AN_192_jpg.rf.dea671e6579222c82aad3243825e49e3.jpg: 640x384 1 accepts, 1 white point, 9.8ms\n",
            "image 19/150 /content/gdrive/MyDrive/ver3-1/test/images/AN_1_jpg.rf.607df5814f4153c0b00d4ce29ae1acb2.jpg: 640x384 1 accepts, 1 brown point, 2 stencils, 9.8ms\n",
            "image 20/150 /content/gdrive/MyDrive/ver3-1/test/images/AN_200_jpg.rf.81828411a2e14cddc6de36bcf52f27ed.jpg: 640x384 1 accepts, 9.8ms\n",
            "image 21/150 /content/gdrive/MyDrive/ver3-1/test/images/AN_201_jpg.rf.4b79a954a47ba3c2e75b05d4402fb488.jpg: 640x384 1 accepts, 1 stencil, 9.8ms\n",
            "image 22/150 /content/gdrive/MyDrive/ver3-1/test/images/AN_203_jpg.rf.486fa934aec6d2be173a3c7f823bb7c8.jpg: 640x384 1 accepts, 9.8ms\n",
            "image 23/150 /content/gdrive/MyDrive/ver3-1/test/images/AN_208_jpg.rf.4e9446cb28467d3098ce610a96670f93.jpg: 640x384 1 accepts, 9.8ms\n",
            "image 24/150 /content/gdrive/MyDrive/ver3-1/test/images/AN_213_jpg.rf.754b210af6748579399c5d4006d0c57b.jpg: 640x384 1 accepts, 2 stencils, 9.8ms\n",
            "image 25/150 /content/gdrive/MyDrive/ver3-1/test/images/AN_222_jpg.rf.efb87d21177ef296c883f0823e75cd57.jpg: 640x384 1 accepts, 9.8ms\n",
            "image 26/150 /content/gdrive/MyDrive/ver3-1/test/images/AN_227_jpg.rf.6ed324dd669181a1fc4b6fc991537133.jpg: 640x384 1 accepts, 9.8ms\n",
            "image 27/150 /content/gdrive/MyDrive/ver3-1/test/images/AN_229_jpg.rf.d61ebae73d76fe4f4bf781eadd71d172.jpg: 640x384 1 accepts, 9.8ms\n",
            "image 28/150 /content/gdrive/MyDrive/ver3-1/test/images/AN_236_jpg.rf.7d43aa40dde7b46b08a8d5772bc2e441.jpg: 640x384 1 accepts, 9.8ms\n",
            "image 29/150 /content/gdrive/MyDrive/ver3-1/test/images/AN_256_jpg.rf.466906495e2b693f5693a7444f5272f1.jpg: 384x640 1 accepts, 10.7ms\n",
            "image 30/150 /content/gdrive/MyDrive/ver3-1/test/images/AN_258_jpg.rf.284fc6adaa8daa6379ec5b2cdf3b702f.jpg: 384x640 1 accepts, 10.1ms\n",
            "image 31/150 /content/gdrive/MyDrive/ver3-1/test/images/AN_25_jpg.rf.6c8cadb10d0bb078a25018fdbe5de8e1.jpg: 640x384 1 accepts, 1 rejects, 11.2ms\n",
            "image 32/150 /content/gdrive/MyDrive/ver3-1/test/images/AN_266_jpg.rf.09331da14f4d24610d034917ab6ed22d.jpg: 640x384 1 accepts, 10.3ms\n",
            "image 33/150 /content/gdrive/MyDrive/ver3-1/test/images/AN_268_jpg.rf.65c9aeb4610c099ebd8be0c7a305e383.jpg: 640x384 1 accepts, 9.8ms\n",
            "image 34/150 /content/gdrive/MyDrive/ver3-1/test/images/AN_275_jpg.rf.92fe7e766ef7efc0c472ba55ddc563a1.jpg: 640x384 1 accepts, 1 brown point, 4 stencils, 9.8ms\n",
            "image 35/150 /content/gdrive/MyDrive/ver3-1/test/images/AN_276_jpg.rf.197d90e9d9b5e03332d937a87bc8ed72.jpg: 640x384 1 accepts, 4 stencils, 1 white point, 9.8ms\n",
            "image 36/150 /content/gdrive/MyDrive/ver3-1/test/images/AN_294_jpg.rf.a225420f3b728d05c0a41a2df0cd4b1d.jpg: 640x384 1 accepts, 1 rejects, 8 stencils, 1 white point, 9.8ms\n",
            "image 37/150 /content/gdrive/MyDrive/ver3-1/test/images/AN_296_jpg.rf.b5d3ef7e6124d0e43456d371135b6795.jpg: 640x384 1 accepts, 9.8ms\n",
            "image 38/150 /content/gdrive/MyDrive/ver3-1/test/images/AN_307_jpg.rf.157a3c833f995204844529e50c4f503c.jpg: 640x384 1 accepts, 3 stencils, 9.8ms\n",
            "image 39/150 /content/gdrive/MyDrive/ver3-1/test/images/AN_312_jpg.rf.d4b8eaf78d5b4fa3db630d032d361e74.jpg: 640x384 1 accepts, 7 stencils, 9.9ms\n",
            "image 40/150 /content/gdrive/MyDrive/ver3-1/test/images/AN_333_jpg.rf.4319cde04386669023d464f576936f20.jpg: 640x384 1 accepts, 9.8ms\n",
            "image 41/150 /content/gdrive/MyDrive/ver3-1/test/images/AN_348_jpg.rf.e1b22a1756e6766def338941ede68140.jpg: 640x384 1 accepts, 9.8ms\n",
            "image 42/150 /content/gdrive/MyDrive/ver3-1/test/images/AN_352_jpg.rf.6cc8f710d07562c4842b7fa68ccd3fc9.jpg: 640x384 1 accepts, 9.8ms\n",
            "image 43/150 /content/gdrive/MyDrive/ver3-1/test/images/AN_355_jpg.rf.2ed1725ba0cd04153ef14c0bd327b8e4.jpg: 640x384 1 accepts, 9.8ms\n",
            "image 44/150 /content/gdrive/MyDrive/ver3-1/test/images/AN_35_jpg.rf.1f2089894c5f03bbeffbdfc4da501802.jpg: 640x384 1 accepts, 9.8ms\n",
            "image 45/150 /content/gdrive/MyDrive/ver3-1/test/images/AN_367_jpg.rf.fd5aebb5bc757fad2ff969c8da5c73f7.jpg: 640x384 1 accepts, 1 brown point, 9.8ms\n",
            "image 46/150 /content/gdrive/MyDrive/ver3-1/test/images/AN_372_jpg.rf.e2bb8d7a7b8c8bc6d3beab8a11606bee.jpg: 640x384 1 accepts, 9.8ms\n",
            "image 47/150 /content/gdrive/MyDrive/ver3-1/test/images/AN_373_jpg.rf.5cd31e168ae54efb6f5612ff6ca0d768.jpg: 640x384 1 accepts, 1 stencil, 9.8ms\n",
            "image 48/150 /content/gdrive/MyDrive/ver3-1/test/images/AN_379_jpg.rf.cbbbf59d6a66b39115ba3dc1a3822ea7.jpg: 640x384 1 accepts, 2 stencils, 9.8ms\n",
            "image 49/150 /content/gdrive/MyDrive/ver3-1/test/images/AN_37_jpg.rf.cbf596cedadd4075f8e39879f4abcd3c.jpg: 640x384 1 accepts, 9.8ms\n",
            "image 50/150 /content/gdrive/MyDrive/ver3-1/test/images/AN_386_jpg.rf.bf40b17a7556d72d216c0d79715c339b.jpg: 640x384 1 accepts, 9.8ms\n",
            "image 51/150 /content/gdrive/MyDrive/ver3-1/test/images/AN_390_jpg.rf.016c968af7960630fbd7a2ef8e718abc.jpg: 640x384 2 bruises, 1 rejects, 9.8ms\n",
            "image 52/150 /content/gdrive/MyDrive/ver3-1/test/images/AN_396_jpg.rf.65682914ccc73612aaa22e1623313c69.jpg: 640x384 1 accepts, 9.8ms\n",
            "image 53/150 /content/gdrive/MyDrive/ver3-1/test/images/AN_3_jpg.rf.01dc13e80006252a964ba5edf2538296.jpg: 640x384 1 accepts, 1 stencil, 9.8ms\n",
            "image 54/150 /content/gdrive/MyDrive/ver3-1/test/images/AN_412_jpg.rf.dfea9ef6db2d8002561dabe0a92bd81f.jpg: 640x384 1 accepts, 9.8ms\n",
            "image 55/150 /content/gdrive/MyDrive/ver3-1/test/images/AN_422_jpg.rf.4c8b4528ec6ba84c4cfce29e89e876e2.jpg: 640x384 1 accepts, 9.8ms\n",
            "image 56/150 /content/gdrive/MyDrive/ver3-1/test/images/AN_424_jpg.rf.dfd5f5de545e7504dbe4e4acb8865411.jpg: 640x384 1 accepts, 9.8ms\n",
            "image 57/150 /content/gdrive/MyDrive/ver3-1/test/images/AN_430_jpg.rf.4c2d6037d8fef345faaa1cc3f371dc07.jpg: 640x384 1 accepts, 2 stencils, 11.2ms\n",
            "image 58/150 /content/gdrive/MyDrive/ver3-1/test/images/AN_437_jpg.rf.4dd4cff2388a648e3deeec141519e63c.jpg: 640x384 1 accepts, 1 stencil, 9.8ms\n",
            "image 59/150 /content/gdrive/MyDrive/ver3-1/test/images/AN_440_jpg.rf.de7aeba91da7b8bfe53e08dcff4e46d6.jpg: 640x384 1 accepts, 1 brown point, 9.8ms\n",
            "image 60/150 /content/gdrive/MyDrive/ver3-1/test/images/AN_442_jpg.rf.445cdb06eb7885d040de894f4e90fffd.jpg: 640x384 1 accepts, 1 brown point, 1 rejects, 9.8ms\n",
            "image 61/150 /content/gdrive/MyDrive/ver3-1/test/images/AN_445_jpg.rf.b01351044510f716b0384bd04fc6b02c.jpg: 640x480 1 rejects, 11 stencils, 72.0ms\n",
            "image 62/150 /content/gdrive/MyDrive/ver3-1/test/images/AN_451_jpg.rf.a55efea2c03f00b837d3f38633a7c30f.jpg: 640x480 1 accepts, 1 brown point, 1 stencil, 11.0ms\n",
            "image 63/150 /content/gdrive/MyDrive/ver3-1/test/images/AN_454_jpg.rf.0978c801563e1f016dd28cfe324cc488.jpg: 640x480 1 accepts, 4 brown points, 1 rejects, 2 stencils, 11.0ms\n",
            "image 64/150 /content/gdrive/MyDrive/ver3-1/test/images/AN_474_jpg.rf.14890894255b124e96c8036143104912.jpg: 640x384 1 accepts, 2 brown points, 3 stencils, 12.0ms\n",
            "image 65/150 /content/gdrive/MyDrive/ver3-1/test/images/AN_475_jpg.rf.de3a4ba9bf7ca86e7733f86dc71fd061.jpg: 640x384 1 accepts, 9.8ms\n",
            "image 66/150 /content/gdrive/MyDrive/ver3-1/test/images/AN_476_jpg.rf.d6c13fd1f0b03c2438ca2209db9cb124.jpg: 640x352 1 accepts, 2 stencils, 119.9ms\n",
            "image 67/150 /content/gdrive/MyDrive/ver3-1/test/images/AN_485_jpg.rf.1da3f1b9cfd2bda2d39a1ef4be0ed85a.jpg: 640x384 1 accepts, 10.9ms\n",
            "image 68/150 /content/gdrive/MyDrive/ver3-1/test/images/AN_493_jpg.rf.8d387a586bd12f4a6165060b8dce4ef5.jpg: 640x480 1 rejects, 10 stencils, 12.2ms\n",
            "image 69/150 /content/gdrive/MyDrive/ver3-1/test/images/AN_52_jpg.rf.6dc8b71a4672406b05b82f2a9be55a45.jpg: 640x384 1 accepts, 1 stencil, 10.9ms\n",
            "image 70/150 /content/gdrive/MyDrive/ver3-1/test/images/AN_62_jpg.rf.56891bfe05679dac701345344fd56198.jpg: 640x384 1 accepts, 1 stencil, 11.1ms\n",
            "image 71/150 /content/gdrive/MyDrive/ver3-1/test/images/AN_6_jpg.rf.e7711f7005f48fc32940e58e9bd71dea.jpg: 640x384 1 accepts, 1 brown point, 9.9ms\n",
            "image 72/150 /content/gdrive/MyDrive/ver3-1/test/images/AN_84_jpg.rf.7d561dcc24ed6b240a79089592552cd2.jpg: 640x384 1 accepts, 9.9ms\n",
            "image 73/150 /content/gdrive/MyDrive/ver3-1/test/images/AN_87_jpg.rf.95be4ccafad2cf053954cff1db947641.jpg: 640x384 1 accepts, 9.9ms\n",
            "image 74/150 /content/gdrive/MyDrive/ver3-1/test/images/AN_8_jpg.rf.abdf7a8ddf312760604a98b6b42228e0.jpg: 640x384 1 accepts, 11.5ms\n",
            "image 75/150 /content/gdrive/MyDrive/ver3-1/test/images/AN_93_jpg.rf.6941c1d969a0dc6c102e762b1e88ba42.jpg: 640x384 1 accepts, 10.1ms\n",
            "image 76/150 /content/gdrive/MyDrive/ver3-1/test/images/AN_99_jpg.rf.ecfa53b44879a899ed4107bf0ffe5dc5.jpg: 640x384 1 accepts, 1 bruise, 1 stencil, 10.6ms\n",
            "image 77/150 /content/gdrive/MyDrive/ver3-1/test/images/Re_116_jpg.rf.a5d9486829694aef4b8afc14c147563c.jpg: 640x384 1 accepts, 10.4ms\n",
            "image 78/150 /content/gdrive/MyDrive/ver3-1/test/images/Re_119_jpg.rf.46da102cf28b59c4af1a99139a92a87c.jpg: 640x384 4 brown points, 1 bruise, 1 rejects, 1 white point, 9.9ms\n",
            "image 79/150 /content/gdrive/MyDrive/ver3-1/test/images/Re_131_jpg.rf.4ff580e72103647f9477e3eda59e9824.jpg: 640x384 3 brown points, 1 bruise, 1 rejects, 5 stencils, 9.9ms\n",
            "image 80/150 /content/gdrive/MyDrive/ver3-1/test/images/Re_153_jpg.rf.0617d306eac489f9ece60d54cff00ae4.jpg: 640x384 6 brown points, 1 bruise, 1 rejects, 8 stencils, 12.9ms\n",
            "image 81/150 /content/gdrive/MyDrive/ver3-1/test/images/Re_157_jpg.rf.b5942b449911bfee0917911e849d2405.jpg: 640x384 3 brown points, 3 bruises, 1 rejects, 7 stencils, 9.9ms\n",
            "image 82/150 /content/gdrive/MyDrive/ver3-1/test/images/Re_159_jpg.rf.aca0bc373ca59f34e991caafe7cb8f9b.jpg: 640x480 26 brown points, 2 bruises, 1 rejects, 8 stencils, 1 white point, 12.0ms\n",
            "image 83/150 /content/gdrive/MyDrive/ver3-1/test/images/Re_180_jpg.rf.734920277412d443b59794a08efa002d.jpg: 640x480 162 brown points, 15 bruises, 1 rejects, 9 stencils, 10 white points, 11.1ms\n",
            "image 84/150 /content/gdrive/MyDrive/ver3-1/test/images/Re_188_jpg.rf.a33330dcb481e8995d6cb52aabaa75ab.jpg: 640x480 1 rejects, 20 stencils, 1 white point, 11.0ms\n",
            "image 85/150 /content/gdrive/MyDrive/ver3-1/test/images/Re_189_jpg.rf.62724edc7a49cc22cfb379ea1451a413.jpg: 640x480 1 accepts, 1 rejects, 4 stencils, 5 white points, 11.0ms\n",
            "image 86/150 /content/gdrive/MyDrive/ver3-1/test/images/Re_190_jpg.rf.2663215fdc4f4bd83e041efbbcf3a348.jpg: 640x480 5 brown points, 3 bruises, 1 rejects, 3 stencils, 1 white point, 11.0ms\n",
            "image 87/150 /content/gdrive/MyDrive/ver3-1/test/images/Re_197_jpg.rf.72e5d3933a1e722e33043e53edfc90dc.jpg: 640x480 2 rejectss, 15 stencils, 1 white point, 11.1ms\n",
            "image 88/150 /content/gdrive/MyDrive/ver3-1/test/images/Re_218_jpg.rf.1cb6343992d8a8f2fb15ebd02bd26c42.jpg: 640x480 2 rejectss, 2 stencils, 11.0ms\n",
            "image 89/150 /content/gdrive/MyDrive/ver3-1/test/images/Re_232_jpg.rf.0231a0f9c8d66966e36aa4fe68fa4a76.jpg: 640x480 1 rejects, 1 stencil, 19 white points, 11.0ms\n",
            "image 90/150 /content/gdrive/MyDrive/ver3-1/test/images/Re_237_jpg.rf.4d8970e1f9f56276b5dc18b54a00d446.jpg: 640x480 1 rejects, 7 stencils, 6 white points, 11.0ms\n",
            "image 91/150 /content/gdrive/MyDrive/ver3-1/test/images/Re_239_jpg.rf.e1028fe0a5e3c7e95122b233426ddbeb.jpg: 640x480 1 rejects, 4 stencils, 3 white points, 11.0ms\n",
            "image 92/150 /content/gdrive/MyDrive/ver3-1/test/images/Re_23_jpg.rf.1c029878e8525387504189fd160dedc6.jpg: 640x384 1 rejects, 3 stencils, 1 white point, 10.5ms\n",
            "image 93/150 /content/gdrive/MyDrive/ver3-1/test/images/Re_240_jpg.rf.b655dc8ade42b326fefc25607b21710e.jpg: 640x480 1 rejects, 16 stencils, 11.7ms\n",
            "image 94/150 /content/gdrive/MyDrive/ver3-1/test/images/Re_243_jpg.rf.6f1309df7aeb77feeff4bf223be66d89.jpg: 640x480 55 brown points, 1 bruise, 1 rejects, 17 stencils, 10 white points, 11.0ms\n",
            "image 95/150 /content/gdrive/MyDrive/ver3-1/test/images/Re_245_jpg.rf.a5d530f9770fa2519f5a4bfe5e409d97.jpg: 640x480 7 brown points, 1 bruise, 1 rejects, 14 stencils, 4 white points, 11.0ms\n",
            "image 96/150 /content/gdrive/MyDrive/ver3-1/test/images/Re_249_jpg.rf.bbf771eeb23e541144767a91a797be92.jpg: 640x480 1 brown point, 1 rejects, 9 stencils, 11.0ms\n",
            "image 97/150 /content/gdrive/MyDrive/ver3-1/test/images/Re_251_jpg.rf.894f76822157d3ebcf6c8868c08dbf3e.jpg: 640x480 1 rejects, 5 stencils, 7 white points, 11.2ms\n",
            "image 98/150 /content/gdrive/MyDrive/ver3-1/test/images/Re_253_jpg.rf.e4c89517bc281fa094aee83fe9a75ebc.jpg: 640x480 5 brown points, 1 rejects, 10 stencils, 3 white points, 11.0ms\n",
            "image 99/150 /content/gdrive/MyDrive/ver3-1/test/images/Re_25_jpg.rf.b1d5efebc0bcb89e02fef172cf2000d0.jpg: 640x384 1 accepts, 1 brown point, 1 rejects, 2 stencils, 6 white points, 11.0ms\n",
            "image 100/150 /content/gdrive/MyDrive/ver3-1/test/images/Re_269_jpg.rf.a62ff0b24be61d860a33e8b08f737a17.jpg: 640x480 1 rejects, 4 stencils, 11.7ms\n",
            "image 101/150 /content/gdrive/MyDrive/ver3-1/test/images/Re_276_jpg.rf.bcd0ccfa9fb8bf4bb1835b3c79c1343e.jpg: 640x480 1 brown point, 1 rejects, 44 stencils, 1 white point, 11.0ms\n",
            "image 102/150 /content/gdrive/MyDrive/ver3-1/test/images/Re_279_jpg.rf.33af00f6e64525e7a6fdadf18e9c4517.jpg: 640x480 1 rejects, 8 stencils, 23 white points, 11.0ms\n",
            "image 103/150 /content/gdrive/MyDrive/ver3-1/test/images/Re_287_jpg.rf.a2ca49cd94c6249cae0e7b2eca503c3a.jpg: 640x480 1 rejects, 15 stencils, 1 white point, 11.0ms\n",
            "image 104/150 /content/gdrive/MyDrive/ver3-1/test/images/Re_288_jpg.rf.a1e1bdd9f5b042be6b4f6d69ecddb979.jpg: 640x480 5 brown points, 2 rejectss, 14 stencils, 1 white point, 11.1ms\n",
            "image 105/150 /content/gdrive/MyDrive/ver3-1/test/images/Re_28_jpg.rf.c8679f8a7e7aaf462a752fcbf38d071b.jpg: 640x384 8 brown points, 1 bruise, 1 rejects, 6 stencils, 2 white points, 10.5ms\n",
            "image 106/150 /content/gdrive/MyDrive/ver3-1/test/images/Re_295_jpg.rf.54a623d0b7beb6ac744f5d5f09dbeb28.jpg: 640x480 1 brown point, 1 rejects, 7 stencils, 11.6ms\n",
            "image 107/150 /content/gdrive/MyDrive/ver3-1/test/images/Re_29_jpg.rf.8f8fe8af3a4650dfa4b27cfd15f47a43.jpg: 640x384 1 accepts, 1 brown point, 1 rejects, 1 stencil, 1 white point, 10.8ms\n",
            "image 108/150 /content/gdrive/MyDrive/ver3-1/test/images/Re_300_jpg.rf.6b7abdf411537418a4f2d8622c08b516.jpg: 640x480 7 brown points, 3 bruises, 1 rejects, 2 stencils, 2 white points, 12.0ms\n",
            "image 109/150 /content/gdrive/MyDrive/ver3-1/test/images/Re_301_jpg.rf.ad0a5362e3084a1feeefc40f5080f79d.jpg: 640x480 1 rejects, 14 stencils, 12 white points, 11.1ms\n",
            "image 110/150 /content/gdrive/MyDrive/ver3-1/test/images/Re_334_jpg.rf.d6712dd1c0669839f9df0aa1b84a5295.jpg: 640x480 1 rejects, 2 stencils, 2 white points, 12.0ms\n",
            "image 111/150 /content/gdrive/MyDrive/ver3-1/test/images/Re_336_jpg.rf.b0d9c48cb14ac77802f611314ad5ceee.jpg: 640x480 1 rejects, 4 stencils, 7 white points, 15.0ms\n",
            "image 112/150 /content/gdrive/MyDrive/ver3-1/test/images/Re_340_jpg.rf.0f5f2732de87d016cd5d46eb21330b8c.jpg: 640x480 3 brown points, 1 rejects, 20 stencils, 11 white points, 11.1ms\n",
            "image 113/150 /content/gdrive/MyDrive/ver3-1/test/images/Re_349_jpg.rf.e9f4dce23374cca9dd7030003c1537a0.jpg: 640x480 1 rejects, 10 stencils, 4 white points, 11.0ms\n",
            "image 114/150 /content/gdrive/MyDrive/ver3-1/test/images/Re_353_jpg.rf.606797c14e1a7c81a99a9520b766693f.jpg: 640x480 12 brown points, 1 rejects, 28 stencils, 1 white point, 11.0ms\n",
            "image 115/150 /content/gdrive/MyDrive/ver3-1/test/images/Re_356_jpg.rf.b2d0a5e12ab05a3afb189267180eab93.jpg: 640x480 1 rejects, 9 stencils, 4 white points, 11.1ms\n",
            "image 116/150 /content/gdrive/MyDrive/ver3-1/test/images/Re_363_jpg.rf.ae2fabac2c35f1a2ba07e99e1bf18f58.jpg: 640x480 1 rejects, 2 stencils, 11.0ms\n",
            "image 117/150 /content/gdrive/MyDrive/ver3-1/test/images/Re_367_jpg.rf.d3ce3191e13d5f53437b48232e003433.jpg: 640x480 1 brown point, 1 rejects, 2 stencils, 11.0ms\n",
            "image 118/150 /content/gdrive/MyDrive/ver3-1/test/images/Re_368_jpg.rf.9899f5f700de17e911a9f7054ae87189.jpg: 640x480 1 accepts, 1 rejects, 2 stencils, 11.0ms\n",
            "image 119/150 /content/gdrive/MyDrive/ver3-1/test/images/Re_376_jpg.rf.2fb30958c370732299a7c42ec60420bc.jpg: 640x480 19 brown points, 2 bruises, 1 rejects, 22 stencils, 2 white points, 11.0ms\n",
            "image 120/150 /content/gdrive/MyDrive/ver3-1/test/images/Re_380_jpg.rf.964dc0370c10e04aa1ea4b99ce1be0f8.jpg: 640x480 1 rejects, 6 stencils, 2 white points, 11.0ms\n",
            "image 121/150 /content/gdrive/MyDrive/ver3-1/test/images/Re_385_jpg.rf.0417babb6122c4c39f391168b19187a5.jpg: 640x480 2 brown points, 1 bruise, 1 rejects, 4 stencils, 1 white point, 11.0ms\n",
            "image 122/150 /content/gdrive/MyDrive/ver3-1/test/images/Re_389_jpg.rf.f2d97804e0d26d190ed72a042cc811a8.jpg: 640x480 1 rejects, 24 stencils, 11.0ms\n",
            "image 123/150 /content/gdrive/MyDrive/ver3-1/test/images/Re_402_jpg.rf.cbc202d41d7eb5099e0cace091a00d55.jpg: 640x480 4 brown points, 1 bruise, 1 rejects, 3 stencils, 6 white points, 11.0ms\n",
            "image 124/150 /content/gdrive/MyDrive/ver3-1/test/images/Re_406_jpg.rf.043f38f068a8bd9a5a781d638d1aa2e6.jpg: 640x480 1 brown point, 1 rejects, 26 stencils, 11.0ms\n",
            "image 125/150 /content/gdrive/MyDrive/ver3-1/test/images/Re_407_jpg.rf.70f6188a89d1e05ebf391f0b13ae2ca9.jpg: 640x480 1 rejects, 24 stencils, 3 white points, 11.0ms\n",
            "image 126/150 /content/gdrive/MyDrive/ver3-1/test/images/Re_408_jpg.rf.05c41d5863ba6fb6ec425e795b633992.jpg: 640x480 2 brown points, 1 rejects, 24 stencils, 11.1ms\n",
            "image 127/150 /content/gdrive/MyDrive/ver3-1/test/images/Re_40_jpg.rf.9f64511982421d82cb2b8e394ea1649b.jpg: 640x384 2 brown points, 1 rejects, 3 stencils, 10.5ms\n",
            "image 128/150 /content/gdrive/MyDrive/ver3-1/test/images/Re_412_jpg.rf.6e63da10230fe786a217b58b93175268.jpg: 640x480 49 brown points, 6 bruises, 1 rejects, 38 stencils, 7 white points, 11.7ms\n",
            "image 129/150 /content/gdrive/MyDrive/ver3-1/test/images/Re_417_jpg.rf.7dccd6320730f13238f7671e060bb454.jpg: 640x480 1 rejects, 5 stencils, 11.0ms\n",
            "image 130/150 /content/gdrive/MyDrive/ver3-1/test/images/Re_421_jpg.rf.b383c81c0e67df5df4f2e8357d8695ee.jpg: 640x480 51 brown points, 3 bruises, 2 rejectss, 7 stencils, 9 white points, 11.0ms\n",
            "image 131/150 /content/gdrive/MyDrive/ver3-1/test/images/Re_427_jpg.rf.2b558becbd44d1ac603d62a22909142d.jpg: 640x480 1 accepts, 2 brown points, 1 rejects, 5 stencils, 1 white point, 11.0ms\n",
            "image 132/150 /content/gdrive/MyDrive/ver3-1/test/images/Re_432_jpg.rf.c6457dc50efd675666e7f48f6813943c.jpg: 640x480 2 brown points, 1 bruise, 1 rejects, 5 stencils, 2 white points, 11.0ms\n",
            "image 133/150 /content/gdrive/MyDrive/ver3-1/test/images/Re_437_jpg.rf.3d358d61c6e3e9f1b7019e0786cd6159.jpg: 640x480 35 brown points, 3 bruises, 1 rejects, 15 stencils, 16 white points, 13.5ms\n",
            "image 134/150 /content/gdrive/MyDrive/ver3-1/test/images/Re_440_jpg.rf.5513d3ab2e7ba0008d74326c68661c95.jpg: 640x480 18 brown points, 2 bruises, 1 rejects, 3 stencils, 3 white points, 11.1ms\n",
            "image 135/150 /content/gdrive/MyDrive/ver3-1/test/images/Re_442_jpg.rf.44b7ea2940f37a0e6e51a10aac1d5450.jpg: 640x480 29 brown points, 2 bruises, 1 rejects, 8 stencils, 36 white points, 11.1ms\n",
            "image 136/150 /content/gdrive/MyDrive/ver3-1/test/images/Re_446_jpg.rf.9c5c27d9c7625bf7e8b4a4937dc2e051.jpg: 640x480 11 brown points, 1 bruise, 1 rejects, 4 stencils, 2 white points, 11.1ms\n",
            "image 137/150 /content/gdrive/MyDrive/ver3-1/test/images/Re_463_jpg.rf.f49e54eda88c3a78b3cba30dab04e82c.jpg: 640x480 1 rejects, 2 stencils, 1 white point, 11.1ms\n",
            "image 138/150 /content/gdrive/MyDrive/ver3-1/test/images/Re_472_jpg.rf.8d9cad8fc01febf4415fe0d3ce673a50.jpg: 640x480 170 brown points, 1 rejects, 13 stencils, 1 white point, 11.1ms\n",
            "image 139/150 /content/gdrive/MyDrive/ver3-1/test/images/Re_485_jpg.rf.410232bf9c83c8b2e293c8537762cb7b.jpg: 640x480 4 brown points, 5 bruises, 1 rejects, 12 stencils, 11.0ms\n",
            "image 140/150 /content/gdrive/MyDrive/ver3-1/test/images/Re_492_jpg.rf.65bff8ca3c3a3d0e0f758e38bddf48d0.jpg: 640x480 109 brown points, 9 bruises, 1 rejects, 9 stencils, 1 white point, 11.1ms\n",
            "image 141/150 /content/gdrive/MyDrive/ver3-1/test/images/Re_64_jpg.rf.afbd551f533e0def6f8df6af3ee32a45.jpg: 640x384 14 brown points, 5 bruises, 1 rejects, 2 stencils, 10.6ms\n",
            "image 142/150 /content/gdrive/MyDrive/ver3-1/test/images/Re_68_jpg.rf.dacdc58eaa1f454aa87194762f85ec1d.jpg: 640x384 5 brown points, 2 bruises, 1 rejects, 4 stencils, 1 white point, 9.8ms\n",
            "image 143/150 /content/gdrive/MyDrive/ver3-1/test/images/Re_6_jpg.rf.66f7d90401dfa85af83f8875fcd684c4.jpg: 640x384 1 accepts, 2 brown points, 3 stencils, 10.9ms\n",
            "image 144/150 /content/gdrive/MyDrive/ver3-1/test/images/Re_76_jpg.rf.92ffffb29fd70c63a54ec1ca9ef7aa60.jpg: 640x384 1 brown point, 1 rejects, 9.8ms\n",
            "image 145/150 /content/gdrive/MyDrive/ver3-1/test/images/Re_77_jpg.rf.ae348a10d5a89b7208c562018c8f9bb4.jpg: 640x384 4 brown points, 1 rejects, 1 stencil, 9.8ms\n",
            "image 146/150 /content/gdrive/MyDrive/ver3-1/test/images/Re_81_jpg.rf.6e8770cf4773a96d3e143404c7b9e076.jpg: 640x384 1 accepts, 1 rejects, 2 stencils, 9.8ms\n",
            "image 147/150 /content/gdrive/MyDrive/ver3-1/test/images/Re_91_jpg.rf.f602f5b4e05fd3ca08b484e67d3cd73f.jpg: 640x384 21 brown points, 2 bruises, 1 rejects, 6 stencils, 1 white point, 9.8ms\n",
            "image 148/150 /content/gdrive/MyDrive/ver3-1/test/images/Re_92_jpg.rf.fe1c55346f57e4304f81b94f90283d66.jpg: 640x384 3 brown points, 1 bruise, 1 rejects, 5 stencils, 4 white points, 9.8ms\n",
            "image 149/150 /content/gdrive/MyDrive/ver3-1/test/images/Re_93_jpg.rf.b9c7c10e3b79f43907b003586c631e98.jpg: 640x384 5 brown points, 7 bruises, 1 rejects, 11 stencils, 9.8ms\n",
            "image 150/150 /content/gdrive/MyDrive/ver3-1/test/images/Re_94_jpg.rf.089f278481500ae9ee084d0fcb3efe71.jpg: 640x384 4 brown points, 2 bruises, 1 rejects, 6 stencils, 1 white point, 9.8ms\n",
            "Speed: 2.5ms preprocess, 12.9ms inference, 2.3ms postprocess per image at shape (1, 3, 640, 640)\n",
            "Results saved to \u001b[1m/content/gdrive/MyDrive/ultralytics/runs/detect/t9svD0001\u001b[0m\n"
          ]
        }
      ],
      "source": [
        "!yolo task=detect mode=predict model=/content/gdrive/MyDrive/detect/t9ov30001_1/weights/best.pt  source=/content/gdrive/MyDrive/ver3-1/test/images imgsz=640 batch=16 conf=0.1 iou=0.5 name=t9svD0001"
      ]
    },
    {
      "cell_type": "markdown",
      "metadata": {
        "id": "kUMOQ0OeDBJG"
      },
      "source": [
        "# 5. Python Usage\n",
        "\n",
        "YOLOv8 was reimagined using Python-first principles for the most seamless Python YOLO experience yet. YOLOv8 models can be loaded from a trained checkpoint or created from scratch. Then methods are used to train, val, predict, and export the model. See a detailed Python usage examples in the YOLOv8 [Docs](https://docs.ultralytics.com/python/)."
      ]
    },
    {
      "cell_type": "markdown",
      "metadata": {
        "id": "7ZW58jUzK66B"
      },
      "source": [
        "## 2. Segmentation\n",
        "\n",
        "YOLOv8 _segmentation_ models use the `-seg` suffix, i.e. `yolov8n-seg.pt` and are pretrained on COCO. See [Segmentation Docs](https://docs.ultralytics.com/tasks/segmentation/) for full details.\n"
      ]
    },
    {
      "cell_type": "code",
      "execution_count": null,
      "metadata": {
        "id": "WFPJIQl_L5HT"
      },
      "outputs": [],
      "source": [
        "# Load YOLOv8n-seg, train it on COCO128-seg for 3 epochs and predict an image with it\n",
        "from ultralytics import YOLO\n",
        "\n",
        "model = YOLO('yolov8n-seg.pt')  # load a pretrained YOLOv8n segmentation model\n",
        "model.train(data='coco128-seg.yaml', epochs=3)  # train the model\n",
        "model('https://ultralytics.com/images/bus.jpg')  # predict on an image"
      ]
    },
    {
      "cell_type": "markdown",
      "metadata": {
        "id": "ax3p94VNK9zR"
      },
      "source": [
        "## 3. Classification\n",
        "\n",
        "YOLOv8 _classification_ models use the `-cls` suffix, i.e. `yolov8n-cls.pt` and are pretrained on ImageNet. See [Classification Docs](https://docs.ultralytics.com/tasks/classification/) for full details.\n"
      ]
    },
    {
      "cell_type": "code",
      "execution_count": null,
      "metadata": {
        "id": "5q9Zu6zlL5rS"
      },
      "outputs": [],
      "source": [
        "# Load YOLOv8n-cls, train it on imagenette160 for 3 epochs and predict an image with it\n",
        "from ultralytics import YOLO\n",
        "\n",
        "model = YOLO('yolov8n-cls.pt')  # load a pretrained YOLOv8n classification model\n",
        "model.train(data='imagenette160', epochs=3)  # train the model\n",
        "model('https://ultralytics.com/images/bus.jpg')  # predict on an image"
      ]
    },
    {
      "cell_type": "markdown",
      "metadata": {
        "id": "IEijrePND_2I"
      },
      "source": [
        "# Appendix\n",
        "\n",
        "Additional content below."
      ]
    },
    {
      "cell_type": "code",
      "execution_count": null,
      "metadata": {
        "id": "GMusP4OAxFu6"
      },
      "outputs": [],
      "source": [
        "# Run YOLOv8 tests (git clone install only)\n",
        "!pytest ultralytics/tests"
      ]
    }
  ],
  "metadata": {
    "accelerator": "GPU",
    "colab": {
      "provenance": [],
      "gpuType": "T4"
    },
    "kernelspec": {
      "display_name": "Python 3",
      "name": "python3"
    }
  },
  "nbformat": 4,
  "nbformat_minor": 0
}